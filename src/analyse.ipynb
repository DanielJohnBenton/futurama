{
 "cells": [
  {
   "cell_type": "code",
   "execution_count": 1,
   "metadata": {},
   "outputs": [],
   "source": [
    "from IPython.display import display, HTML\n",
    "\n",
    "from matplotlib import pyplot"
   ]
  },
  {
   "cell_type": "code",
   "execution_count": 2,
   "metadata": {},
   "outputs": [],
   "source": [
    "from tokenise import tokenise"
   ]
  },
  {
   "cell_type": "code",
   "execution_count": 3,
   "metadata": {},
   "outputs": [],
   "source": [
    "def tsv_lines(text):\n",
    "    return [line.split(\"\\t\") for line in text.splitlines()][1:]"
   ]
  },
  {
   "cell_type": "code",
   "execution_count": 4,
   "metadata": {},
   "outputs": [],
   "source": [
    "def html_table_row(items):\n",
    "    output = \"<tr>\"\n",
    "    for item in items:\n",
    "        output += f\"<td>{item}</td>\"\n",
    "    output +=\"</tr>\"\n",
    "    return output"
   ]
  },
  {
   "cell_type": "code",
   "execution_count": 5,
   "metadata": {},
   "outputs": [],
   "source": [
    "tsvDirectory = \"transcripts/improved_tsv\""
   ]
  },
  {
   "cell_type": "code",
   "execution_count": 6,
   "metadata": {},
   "outputs": [],
   "source": [
    "with open(f\"{tsvDirectory}/episodes.tsv\", \"r\", encoding=\"utf-8\") as episodesTsvFile:\n",
    "    episodesTsv = tsv_lines(episodesTsvFile.read())\n",
    "\n",
    "speakerTokenCounts = []\n",
    "speakerTokenCountsLookup = {}\n",
    "\n",
    "for episode in episodesTsv:\n",
    "    fileName = episode[2]\n",
    "    with open(f\"{tsvDirectory}/{fileName}\", \"r\", encoding=\"utf-8\") as episodeFile:\n",
    "        lines = tsv_lines(episodeFile.read())\n",
    "    \n",
    "    for line in lines:\n",
    "        speaker = line[0]\n",
    "        text = line[1]\n",
    "        if speaker in speakerTokenCountsLookup:\n",
    "            speakerTokenCounts[speakerTokenCountsLookup[speaker]][\"COUNT\"] += len(tokenise(text))\n",
    "        else:\n",
    "            speakerTokenCountsLookup[speaker] = len(speakerTokenCounts)\n",
    "            speakerTokenCounts.append({\n",
    "                \"SPEAKER\": speaker,\n",
    "                \"COUNT\": len(tokenise(text))\n",
    "            })\n",
    "\n",
    "speakerTokenCounts.sort(key=lambda x: -x[\"COUNT\"])"
   ]
  },
  {
   "cell_type": "code",
   "execution_count": 7,
   "metadata": {},
   "outputs": [
    {
     "data": {
      "text/html": [
       "<b>Top fifteen</b><br /><table><tr><th>Speaker</th><th>Count</th></tr><tr><td>Fry</td><td>39709</td></tr><tr><td>Bender</td><td>37789</td></tr><tr><td>Leela</td><td>32520</td></tr><tr><td>Professor Farnsworth</td><td>24461</td></tr><tr><td>Zoidberg</td><td>9381</td></tr><tr><td>Hermes</td><td>8117</td></tr><tr><td>Zapp Brannigan</td><td>7400</td></tr><tr><td>Amy</td><td>7213</td></tr><tr><td>Kif</td><td>2657</td></tr><tr><td>Mom</td><td>2554</td></tr><tr><td>Calculon</td><td>2111</td></tr><tr><td>Richard Nixon's Head</td><td>2014</td></tr><tr><td>Lrrr</td><td>1842</td></tr><tr><td>Nibbler</td><td>1465</td></tr><tr><td>Cubert</td><td>1412</td></tr></table>"
      ],
      "text/plain": [
       "<IPython.core.display.HTML object>"
      ]
     },
     "metadata": {},
     "output_type": "display_data"
    }
   ],
   "source": [
    "output = \"<b>Top fifteen</b><br /><table><tr><th>Speaker</th><th>Count</th></tr>\"\n",
    "for i in range(15):\n",
    "    output += html_table_row([speakerTokenCounts[i][\"SPEAKER\"], speakerTokenCounts[i][\"COUNT\"]])\n",
    "output += \"</table>\"\n",
    "display(HTML(output))"
   ]
  },
  {
   "cell_type": "code",
   "execution_count": 8,
   "metadata": {},
   "outputs": [
    {
     "name": "stdout",
     "output_type": "stream",
     "text": [
      "Total tokens: 265897\n"
     ]
    }
   ],
   "source": [
    "totalTokens = 0\n",
    "for speaker in speakerTokenCounts:\n",
    "    totalTokens += speaker[\"COUNT\"]\n",
    "print(f\"Total tokens: {totalTokens}\")"
   ]
  },
  {
   "cell_type": "code",
   "execution_count": 9,
   "metadata": {
    "scrolled": false
   },
   "outputs": [
    {
     "data": {
      "text/html": [
       "<b>Top fifteen (as percentages)</b><br /><table><tr><th>Speaker</th><th>Count</th></tr><tr><td>Fry</td><td>14.934 %</td></tr><tr><td>Bender</td><td>14.212 %</td></tr><tr><td>Leela</td><td>12.23 %</td></tr><tr><td>Professor Farnsworth</td><td>9.199 %</td></tr><tr><td>Zoidberg</td><td>3.528 %</td></tr><tr><td>Hermes</td><td>3.053 %</td></tr><tr><td>Zapp Brannigan</td><td>2.783 %</td></tr><tr><td>Amy</td><td>2.713 %</td></tr><tr><td>Kif</td><td>0.999 %</td></tr><tr><td>Mom</td><td>0.961 %</td></tr><tr><td>Calculon</td><td>0.794 %</td></tr><tr><td>Richard Nixon's Head</td><td>0.757 %</td></tr><tr><td>Lrrr</td><td>0.693 %</td></tr><tr><td>Nibbler</td><td>0.551 %</td></tr><tr><td>Cubert</td><td>0.531 %</td></tr></table>"
      ],
      "text/plain": [
       "<IPython.core.display.HTML object>"
      ]
     },
     "metadata": {},
     "output_type": "display_data"
    }
   ],
   "source": [
    "output = \"<b>Top fifteen (as percentages)</b><br /><table><tr><th>Speaker</th><th>Count</th></tr>\"\n",
    "for i in range(15):\n",
    "    output += html_table_row([speakerTokenCounts[i][\"SPEAKER\"], str(round(speakerTokenCounts[i][\"COUNT\"] / totalTokens * 100, 3)) +\" %\"])\n",
    "output += \"</table>\"\n",
    "display(HTML(output))"
   ]
  },
  {
   "cell_type": "code",
   "execution_count": null,
   "metadata": {},
   "outputs": [],
   "source": []
  }
 ],
 "metadata": {
  "kernelspec": {
   "display_name": "Python 3",
   "language": "python",
   "name": "python3"
  },
  "language_info": {
   "codemirror_mode": {
    "name": "ipython",
    "version": 3
   },
   "file_extension": ".py",
   "mimetype": "text/x-python",
   "name": "python",
   "nbconvert_exporter": "python",
   "pygments_lexer": "ipython3",
   "version": "3.6.3"
  }
 },
 "nbformat": 4,
 "nbformat_minor": 2
}
