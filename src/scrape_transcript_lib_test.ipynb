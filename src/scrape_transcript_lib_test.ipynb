{
 "cells": [
  {
   "cell_type": "code",
   "execution_count": 1,
   "metadata": {},
   "outputs": [],
   "source": [
    "from scrape_transcript import scrape_transcript"
   ]
  },
  {
   "cell_type": "code",
   "execution_count": 2,
   "metadata": {},
   "outputs": [],
   "source": [
    "transcriptPath = \"downloaded_pages/season_1/1_Transcript_Space_Pilot_3000.html\"\n",
    "\n",
    "with open(transcriptPath, \"r\", encoding=\"utf-8\") as transcriptFile:\n",
    "    transcriptHtml = transcriptFile.read()"
   ]
  },
  {
   "cell_type": "code",
   "execution_count": 3,
   "metadata": {},
   "outputs": [],
   "source": [
    "title, lines = scrape_transcript(transcriptHtml, transcriptPath.split(\"/\")[1])"
   ]
  },
  {
   "cell_type": "code",
   "execution_count": 4,
   "metadata": {},
   "outputs": [
    {
     "name": "stdout",
     "output_type": "stream",
     "text": [
      "Space Pilot 3000\n"
     ]
    }
   ],
   "source": [
    "print(title)"
   ]
  },
  {
   "cell_type": "code",
   "execution_count": 7,
   "metadata": {},
   "outputs": [
    {
     "name": "stdout",
     "output_type": "stream",
     "text": [
      "Fry:\n",
      "\tSpace. It seems to go on and on forever. But then you get to the end and the gorilla starts throwing barrels at you.\n",
      "Fry:\n",
      "\tAnd that's how you play the game!\n",
      "Boy:\n",
      "\tYou stink, loser!\n",
      "Panucci:\n",
      "\tHey, Fry. Pizza goin' out! C'mon!!\n",
      "Fry:\n",
      "\tMichelle, baby! Where you going?\n",
      "Michelle:\n",
      "\tIt's not working out, Fry.   I put your stuff out on the sidewalk!\n",
      "Fry:\n",
      "\tI hate my life, I hate my life, I hate my life.\n",
      "Bike Thief:\n",
      "\tHappy new year!\n",
      "Fry:\n",
      "\tHello? Pizza delivery for, uh ...  ... Icy Wiener? Aw, crud! I always thought at this point in my life I'd be the one making the crank calls!  Here's to another lousy millennium.\n",
      "Crowd:\n",
      "\tTen!\n"
     ]
    }
   ],
   "source": [
    "for line in lines[:10]:\n",
    "    print(f\"{line['SPEAKER']}:\\n\\t{line['LINE']}\")"
   ]
  },
  {
   "cell_type": "code",
   "execution_count": null,
   "metadata": {},
   "outputs": [],
   "source": []
  }
 ],
 "metadata": {
  "kernelspec": {
   "display_name": "Python 3",
   "language": "python",
   "name": "python3"
  },
  "language_info": {
   "codemirror_mode": {
    "name": "ipython",
    "version": 3
   },
   "file_extension": ".py",
   "mimetype": "text/x-python",
   "name": "python",
   "nbconvert_exporter": "python",
   "pygments_lexer": "ipython3",
   "version": "3.6.3"
  }
 },
 "nbformat": 4,
 "nbformat_minor": 2
}
