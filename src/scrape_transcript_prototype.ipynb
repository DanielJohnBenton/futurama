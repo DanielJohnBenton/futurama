{
 "cells": [
  {
   "cell_type": "code",
   "execution_count": 1,
   "metadata": {},
   "outputs": [],
   "source": [
    "from bs4 import BeautifulSoup"
   ]
  },
  {
   "cell_type": "code",
   "execution_count": 2,
   "metadata": {},
   "outputs": [],
   "source": [
    "transcriptPath = \"downloaded_pages/season_1/1_Transcript_Space_Pilot_3000.html\"\n",
    "\n",
    "with open(transcriptPath, \"r\", encoding=\"utf-8\") as transcriptFile:\n",
    "    transcriptHtml = transcriptFile.read()"
   ]
  },
  {
   "cell_type": "code",
   "execution_count": 3,
   "metadata": {},
   "outputs": [
    {
     "name": "stdout",
     "output_type": "stream",
     "text": [
      "5 script tags removed\n"
     ]
    }
   ],
   "source": [
    "# https://stackoverflow.com/a/5598678\n",
    "soup = BeautifulSoup(transcriptHtml, \"html5lib\")\n",
    "nScriptTags = len([scriptTag.extract() for scriptTag in soup(\"script\")])\n",
    "\n",
    "print(f\"{nScriptTags} script tags removed\")"
   ]
  },
  {
   "cell_type": "code",
   "execution_count": 4,
   "metadata": {},
   "outputs": [
    {
     "name": "stdout",
     "output_type": "stream",
     "text": [
      "Space Pilot 3000\n"
     ]
    }
   ],
   "source": [
    "print(soup.find_all(\"h1\")[0].text.replace(\"Transcript:\", \"\").strip())"
   ]
  },
  {
   "cell_type": "code",
   "execution_count": 5,
   "metadata": {},
   "outputs": [
    {
     "name": "stdout",
     "output_type": "stream",
     "text": [
      "202 square bracket blocks removed.\n"
     ]
    }
   ],
   "source": [
    "transcriptHtml = str(soup)\n",
    "\n",
    "transcriptHtmlRemovedSquareBrackets = \"\"\n",
    "\n",
    "nSquareBracketsRemoved = 0\n",
    "squareBracketLevel = 0\n",
    "\n",
    "for character in transcriptHtml:\n",
    "    if character == \"[\":\n",
    "        squareBracketLevel += 1\n",
    "    elif character == \"]\" and squareBracketLevel > 0:\n",
    "        squareBracketLevel -= 1\n",
    "        nSquareBracketsRemoved += 1\n",
    "    elif squareBracketLevel == 0:\n",
    "        transcriptHtmlRemovedSquareBrackets += character\n",
    "\n",
    "assert squareBracketLevel == 0, \"Square brackets problem!\"\n",
    "\n",
    "transcriptHtml = transcriptHtmlRemovedSquareBrackets\n",
    "print(f\"{nSquareBracketsRemoved} square bracket blocks removed.\")"
   ]
  },
  {
   "cell_type": "code",
   "execution_count": 6,
   "metadata": {},
   "outputs": [],
   "source": [
    "brTags = [\"<br />\", \"<BR />\", \"<br>\", \"<BR>\"]\n",
    "for brTag in brTags:\n",
    "    transcriptHtml = transcriptHtml.replace(f\"{brTag}\\r\\n\", \" \")"
   ]
  },
  {
   "cell_type": "code",
   "execution_count": 7,
   "metadata": {},
   "outputs": [
    {
     "name": "stdout",
     "output_type": "stream",
     "text": [
      "1. <p><span class=\"timestamp\" id=\"time-00-07\" style=\"font-size:80%; margin-right: 5px; border-bottom: 1px dashed #4488ff; cursor: help;\" title=\"Approximate timestamp for dialogue start\">(00:07)<span id=\"time-00-07-link\" style=\"display: none; font-weight: bold;\" title=\"Click here for direct link\"> <a href=\"#time-00-07\">⨂</a></span></span><b><a href=\"/Philip_J._Fry\" title=\"Philip J. Fry\">Fry</a>\n",
      "\n",
      "2.   Space. It seems to go on and on forever. But then you get to the end and the gorilla starts throwing barrels at you.\n"
     ]
    }
   ],
   "source": [
    "htmlLines = [line.split(\"</b>:\") for line in transcriptHtml.splitlines() if \"</b>:\" in line]\n",
    "print(\"1. \"+ htmlLines[0][0])\n",
    "print()\n",
    "print(\"2. \"+ htmlLines[0][1])"
   ]
  },
  {
   "cell_type": "code",
   "execution_count": 8,
   "metadata": {},
   "outputs": [],
   "source": [
    "soup = BeautifulSoup(transcriptHtml, \"html5lib\")\n",
    "\n",
    "# https://stackoverflow.com/a/8439761\n",
    "for link in soup.findAll(\"a\"):\n",
    "    link.unwrap()\n",
    "\n",
    "transcriptHtml = str(soup)"
   ]
  },
  {
   "cell_type": "code",
   "execution_count": 9,
   "metadata": {},
   "outputs": [
    {
     "name": "stdout",
     "output_type": "stream",
     "text": [
      "1. <p><span class=\"timestamp\" id=\"time-00-07\" style=\"font-size:80%; margin-right: 5px; border-bottom: 1px dashed #4488ff; cursor: help;\" title=\"Approximate timestamp for dialogue start\">(00:07)<span id=\"time-00-07-link\" style=\"display: none; font-weight: bold;\" title=\"Click here for direct link\"> ⨂</span></span><b>Fry\n",
      "\n",
      "2.   Space. It seems to go on and on forever. But then you get to the end and the gorilla starts throwing barrels at you.\n"
     ]
    }
   ],
   "source": [
    "htmlLines = [line.split(\"</b>:\") for line in transcriptHtml.splitlines() if \"</b>:\" in line]\n",
    "print(\"1. \"+ htmlLines[0][0])\n",
    "print()\n",
    "print(\"2. \"+ htmlLines[0][1])"
   ]
  },
  {
   "cell_type": "code",
   "execution_count": 11,
   "metadata": {},
   "outputs": [
    {
     "name": "stdout",
     "output_type": "stream",
     "text": [
      "Fry:\n",
      "\tSpace. It seems to go on and on forever. But then you get to the end and the gorilla starts throwing barrels at you.\n",
      "Fry:\n",
      "\tAnd that's how you play the game!\n",
      "Boy:\n",
      "\tYou stink, loser!\n",
      "Panucci:\n",
      "\tHey, Fry. Pizza goin' out! C'mon!!\n",
      "Fry:\n",
      "\tMichelle, baby! Where you going?\n",
      "Michelle:\n",
      "\tIt's not working out, Fry.   I put your stuff out on the sidewalk!\n",
      "Fry:\n",
      "\tI hate my life, I hate my life, I hate my life.\n",
      "Bike Thief:\n",
      "\tHappy new year!\n",
      "Fry:\n",
      "\tHello? Pizza delivery for, uh ...  ... Icy Wiener? Aw, crud! I always thought at this point in my life I'd be the one making the crank calls!  Here's to another lousy millennium.\n",
      "Crowd:\n",
      "\tTen!\n"
     ]
    }
   ],
   "source": [
    "lines = []\n",
    "for htmlLine in htmlLines[:10]:\n",
    "    speaker = htmlLine[0].split(\"<b>\")[-1].replace(\"\\t\", \"\").strip()\n",
    "    line = BeautifulSoup(htmlLine[1], \"html5lib\").text.replace(\"\\t\", \" \").strip()\n",
    "    \n",
    "    print(f\"{speaker}:\\n\\t{line}\")"
   ]
  }
 ],
 "metadata": {
  "kernelspec": {
   "display_name": "Python 3",
   "language": "python",
   "name": "python3"
  },
  "language_info": {
   "codemirror_mode": {
    "name": "ipython",
    "version": 3
   },
   "file_extension": ".py",
   "mimetype": "text/x-python",
   "name": "python",
   "nbconvert_exporter": "python",
   "pygments_lexer": "ipython3",
   "version": "3.6.3"
  }
 },
 "nbformat": 4,
 "nbformat_minor": 2
}
