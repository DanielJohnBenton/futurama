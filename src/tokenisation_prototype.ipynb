{
 "cells": [
  {
   "cell_type": "code",
   "execution_count": 1,
   "metadata": {},
   "outputs": [],
   "source": [
    "def tokenise_proto(text):\n",
    "    onSpace = True\n",
    "    processedText = \"\"\n",
    "    for character in text:\n",
    "        if character.isalnum():\n",
    "            processedText +=\"\"\n",
    "            onSpace = False\n",
    "    \n",
    "    xLastCharacter = len(text) - 1\n",
    "    for iCharacter in range(len(text)):\n",
    "        character = text[iCharacter]\n",
    "        if character == \"-\":\n",
    "            if processedText != \"\" and text[iCharacter - 1].isalnum() and iCharacter != xLastCharacter and text[iCharacter + 1].isalnum():\n",
    "                processedText += character\n",
    "            elif not onSpace:\n",
    "                processedText +=\" \"\n",
    "                onSpace = True\n",
    "        elif character == \".\":\n",
    "            if processedText != \"\" and text[iCharacter - 1].isdigit() and iCharacter != xLastCharacter and text[iCharacter + 1].isdigit():\n",
    "                processedText += character\n",
    "            elif not onSpace:\n",
    "                processedText +=\" \"\n",
    "                onSpace = True\n",
    "        elif character.isalnum():\n",
    "            processedText += character\n",
    "            onSpace = False\n",
    "        elif not onSpace:\n",
    "            processedText +=\" \"\n",
    "            onSpace = True\n",
    "    \n",
    "    return processedText.strip().split(\" \")"
   ]
  },
  {
   "cell_type": "code",
   "execution_count": 2,
   "metadata": {},
   "outputs": [
    {
     "name": "stdout",
     "output_type": "stream",
     "text": [
      "['Enemy', 'in', 'range', 'Prepare', 'to', 'launch', 'universe-to-universe', 'missile', 'Ready', 'And', 'Fi', 'Almost', 'fooled', 'you', 'there', 'Fire', '5.5', '5', '5', '7', '7']\n"
     ]
    }
   ],
   "source": [
    "testString = \"  .-Enemy in range. Prepare to launch universe-to-universe missile. Ready?  And... Fi-...  Almost fooled---you there.  Fire! 5.5 5 . 5 7...7. \"\n",
    "print(tokenise_proto(testString))"
   ]
  },
  {
   "cell_type": "code",
   "execution_count": 3,
   "metadata": {},
   "outputs": [
    {
     "name": "stdout",
     "output_type": "stream",
     "text": [
      "['Enemy', 'in', 'range', 'Prepare', 'to', 'launch', 'universe-to-universe', 'missile', 'Ready', 'And', 'Fi', 'Almost', 'fooled', 'you', 'there', 'Fire', '5.5', '5', '5', '7', '7']\n"
     ]
    }
   ],
   "source": [
    "from tokenise import tokenise as lib_tokenise\n",
    "print(lib_tokenise(testString))"
   ]
  },
  {
   "cell_type": "code",
   "execution_count": 4,
   "metadata": {},
   "outputs": [
    {
     "name": "stdout",
     "output_type": "stream",
     "text": [
      "[\"Fry's\", 'problem', 'is', 'now', 'single', 'quotes']\n"
     ]
    }
   ],
   "source": [
    "print(lib_tokenise(\"'Fry's 'problem' is now single quotes'\"))"
   ]
  }
 ],
 "metadata": {
  "kernelspec": {
   "display_name": "Python 3",
   "language": "python",
   "name": "python3"
  },
  "language_info": {
   "codemirror_mode": {
    "name": "ipython",
    "version": 3
   },
   "file_extension": ".py",
   "mimetype": "text/x-python",
   "name": "python",
   "nbconvert_exporter": "python",
   "pygments_lexer": "ipython3",
   "version": "3.6.3"
  }
 },
 "nbformat": 4,
 "nbformat_minor": 2
}
